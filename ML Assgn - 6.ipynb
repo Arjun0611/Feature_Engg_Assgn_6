{
 "cells": [
  {
   "cell_type": "code",
   "execution_count": 8,
   "id": "a23217fb-2ace-47ae-9876-af7fbb739dbb",
   "metadata": {},
   "outputs": [],
   "source": [
    "# Q1.\n",
    "\n",
    "import numpy as np\n",
    "from scipy.stats import pearsonr"
   ]
  },
  {
   "cell_type": "code",
   "execution_count": 9,
   "id": "495a2452-f360-44c8-9d1e-09e6551a6ef5",
   "metadata": {},
   "outputs": [],
   "source": [
    "# Sample data for study time (in hours) and exam scores\n",
    "\n",
    "study_time = np.array([10, 15, 20, 25, 30])\n",
    "exam_scores = np.array([60, 70, 80, 85, 90])"
   ]
  },
  {
   "cell_type": "code",
   "execution_count": 10,
   "id": "0817a902-4d81-4ca8-88cb-7088df9855d0",
   "metadata": {},
   "outputs": [],
   "source": [
    "correlation_coefficient, p_value = pearsonr(study_time, exam_scores)"
   ]
  },
  {
   "cell_type": "code",
   "execution_count": 11,
   "id": "d0056b20-51d3-48e1-b153-0aa41f69c376",
   "metadata": {},
   "outputs": [],
   "source": [
    "if correlation_coefficient > 0:\n",
    "    correlation_interpretation = \"There is a positive linear relationship.\"\n",
    "elif correlation_coefficient < 0:\n",
    "    correlation_interpretation = \"There is a negative linear relationship.\"\n",
    "else:\n",
    "    correlation_interpretation = \"There is no linear relationship.\""
   ]
  },
  {
   "cell_type": "code",
   "execution_count": 12,
   "id": "271d7b2d-89da-41dc-8ead-9fbd2985a528",
   "metadata": {},
   "outputs": [
    {
     "name": "stdout",
     "output_type": "stream",
     "text": [
      "Pearson Correlation Coefficient: 0.9847982464479192\n",
      "P-value: 0.0022448204035521294\n",
      "Interpretation: There is a positive linear relationship.\n"
     ]
    }
   ],
   "source": [
    "print(f\"Pearson Correlation Coefficient: {correlation_coefficient}\")\n",
    "print(f\"P-value: {p_value}\")\n",
    "print(f\"Interpretation: {correlation_interpretation}\")"
   ]
  },
  {
   "cell_type": "code",
   "execution_count": 13,
   "id": "272ff8a5-2851-4da4-9881-adcf156443c7",
   "metadata": {},
   "outputs": [],
   "source": [
    "#Q2.\n",
    "\n",
    "from scipy.stats import spearmanr"
   ]
  },
  {
   "cell_type": "code",
   "execution_count": 14,
   "id": "df61e155-91ff-45f1-a53f-51048d09e6e0",
   "metadata": {},
   "outputs": [],
   "source": [
    "# Sample data\n",
    "sleep_hours = [6, 7, 5, 8, 6, 7, 8, 5, 6, 7]\n",
    "job_satisfaction = [5, 6, 4, 7, 5, 6, 7, 4, 5, 6]\n",
    "\n",
    "correlation_coefficient, p_value = spearmanr(sleep_hours, job_satisfaction)"
   ]
  },
  {
   "cell_type": "code",
   "execution_count": 15,
   "id": "a4a0f958-ba7e-47eb-bc78-8820ca4b7037",
   "metadata": {},
   "outputs": [],
   "source": [
    "if correlation_coefficient > 0:\n",
    "    correlation_interpretation = \"There is a positive rank relationship.\"\n",
    "elif correlation_coefficient < 0:\n",
    "    correlation_interpretation = \"There is a negative rank relationship.\"\n",
    "else:\n",
    "    correlation_interpretation = \"There is no rank relationship.\""
   ]
  },
  {
   "cell_type": "code",
   "execution_count": 16,
   "id": "15ddfa3d-f3e6-460c-a5ae-c333dc7baac4",
   "metadata": {},
   "outputs": [
    {
     "name": "stdout",
     "output_type": "stream",
     "text": [
      "Spearman's Rank Correlation Coefficient: 1.0\n",
      "P-value: 0.0\n",
      "Interpretation: There is a positive rank relationship.\n"
     ]
    }
   ],
   "source": [
    "print(f\"Spearman's Rank Correlation Coefficient: {correlation_coefficient}\")\n",
    "print(f\"P-value: {p_value}\")\n",
    "print(f\"Interpretation: {correlation_interpretation}\")"
   ]
  },
  {
   "cell_type": "code",
   "execution_count": 17,
   "id": "e88e8e3c-1cd5-4ace-b683-c4ba1f8f6091",
   "metadata": {},
   "outputs": [],
   "source": [
    "#Q3.\n",
    "\n",
    "from scipy.stats import pearsonr, spearmanr"
   ]
  },
  {
   "cell_type": "code",
   "execution_count": 22,
   "id": "5d605d5a-a64c-4ea2-88ed-e71ef246d3cc",
   "metadata": {},
   "outputs": [],
   "source": [
    "# Sample data\n",
    "\n",
    "exercise_hours = [3, 2, 5, 4, 1, 6, 7, 3, 2, 4, 5, 2, 3, 6, 1, 4, 5, 3, 2, 7,\n",
    "                  6, 4, 3, 5, 2, 1, 6, 4, 5, 3, 2, 7, 1, 4, 5, 2, 3, 6, 1, 4, 5,\n",
    "                  3, 2, 7, 6, 4, 3, 5, 2, 1]\n",
    "\n",
    "bmi = [25.2, 26.4, 24.9, 29.1, 30.5, 22.3, 21.8, 26.0, 27.3, 28.7, 23.6, 31.2, 26.2,\n",
    "       27.9, 20.4, 32.1, 29.7, 24.8, 26.1, 28.6, 21.5, 22.9, 29.8, 25.7, 23.1,\n",
    "       31.5, 27.8, 19.5, 21.2, 23.7, 30.9, 32.7, 24.6, 27.2, 23.9, 26.8, 20.8,\n",
    "       22.7, 30.2, 33.0, 28.0, 20.1, 25.3, 22.0, 29.4, 31.8, 27.7, 24.3, 21.1, 29.2]\n",
    "\n",
    "pearson_corr, pearson_p_value = pearsonr(exercise_hours, bmi)\n",
    "\n",
    "spearman_corr, spearman_p_value = spearmanr(exercise_hours, bmi)"
   ]
  },
  {
   "cell_type": "code",
   "execution_count": 23,
   "id": "f24f2278-38a5-4b60-b44a-0be5e6013e5d",
   "metadata": {},
   "outputs": [
    {
     "name": "stdout",
     "output_type": "stream",
     "text": [
      "Pearson Correlation Coefficient: -0.11783928094647031\n",
      "Pearson P-value: 0.4150611063525911\n",
      "Spearman's Rank Correlation: -0.12663054091859305\n",
      "Spearman P-value: 0.3808666186708147\n"
     ]
    }
   ],
   "source": [
    "print(f\"Pearson Correlation Coefficient: {pearson_corr}\")\n",
    "print(f\"Pearson P-value: {pearson_p_value}\")\n",
    "print(f\"Spearman's Rank Correlation: {spearman_corr}\")\n",
    "print(f\"Spearman P-value: {spearman_p_value}\")"
   ]
  },
  {
   "cell_type": "code",
   "execution_count": 36,
   "id": "e42712c0-a278-4e55-b994-bf7dde9c793f",
   "metadata": {},
   "outputs": [],
   "source": [
    "#Q4.\n",
    "\n",
    "hours_tv = np.array([2, 3, 1, 4, 2, 5, 3, 1, 2, 4, 3, 2, 5, 4, 1, 2, 3, 5, 4, 2, \n",
    "                     3, 1, 4, 2, 5, 3, 1, 2, 4, 3, 2, 5, 4, 1, 2, 3, 5, 4, 2, \n",
    "                     3, 1, 4, 2, 5, 3, 1, 2, 4, 3, 5])\n",
    "\n",
    "physical_activity = np.array([30, 20, 40, 15, 25, 10, 20, 45, 30, 15, 20, 25, 10, 15, 50, 30, 20, 10, \n",
    "                              15, 25, 20, 45, 10, 30, 20, 15, 40, 25, 30, 20, 45, 10, 15, 25, 20, 30, \n",
    "                              15, 10, 25, 20, 45, 30, 15, 20, 25, 10, 30, 15, 20, 10])"
   ]
  },
  {
   "cell_type": "code",
   "execution_count": 42,
   "id": "dd7ee6b2-be41-434f-9821-97f0ccf4eaf5",
   "metadata": {},
   "outputs": [],
   "source": [
    "pearson_corr, p_value = pearsonr(hours_tv, physical_activity)"
   ]
  },
  {
   "cell_type": "code",
   "execution_count": 43,
   "id": "e449637a-bafd-40f5-af7b-65797cdd4d7f",
   "metadata": {},
   "outputs": [
    {
     "name": "stdout",
     "output_type": "stream",
     "text": [
      "Pearson Correlation Coefficient: -0.719\n",
      "P-value: 4.018047084086015e-09\n"
     ]
    }
   ],
   "source": [
    "print(f\"Pearson Correlation Coefficient: {pearson_corr:.3f}\")\n",
    "print(f\"P-value: {p_value}\")"
   ]
  },
  {
   "cell_type": "code",
   "execution_count": 64,
   "id": "93adc5a6-e828-4c40-9f14-c4bd52f3cf8c",
   "metadata": {},
   "outputs": [],
   "source": [
    "# Q5.\n",
    "\n",
    "data = {\n",
    "    'Age': [25, 42, 37, 19, 31, 28],\n",
    "    'Soft Drink Preference' : ['Coke', 'Pepsi', 'Mountain Dew', 'Coke', 'Pepsi', 'Coke']\n",
    "       }\n",
    "\n",
    "df = pd.DataFrame(data)"
   ]
  },
  {
   "cell_type": "code",
   "execution_count": 65,
   "id": "5c141384-0f77-4bb6-8389-3b58d0f065c9",
   "metadata": {},
   "outputs": [],
   "source": [
    "mean_soft_drink_preference = df.groupby('Soft Drink Preference')['Age'].mean().to_dict()"
   ]
  },
  {
   "cell_type": "code",
   "execution_count": 67,
   "id": "d10d2132-8ec9-4785-8c47-d8147e9b487b",
   "metadata": {},
   "outputs": [
    {
     "data": {
      "text/plain": [
       "{'Coke': 24.0, 'Mountain Dew': 37.0, 'Pepsi': 36.5}"
      ]
     },
     "execution_count": 67,
     "metadata": {},
     "output_type": "execute_result"
    }
   ],
   "source": [
    "mean_soft_drink_preference"
   ]
  },
  {
   "cell_type": "code",
   "execution_count": 68,
   "id": "26287290-f6a5-4b93-a90d-b2841489089e",
   "metadata": {},
   "outputs": [],
   "source": [
    "df['Soft Drink Preference Encoded'] = df['Soft Drink Preference'].map(mean_soft_drink_preference)"
   ]
  },
  {
   "cell_type": "code",
   "execution_count": 71,
   "id": "e24aff98-fa2b-4131-9fdf-a2485a4b6614",
   "metadata": {},
   "outputs": [],
   "source": [
    "df.drop(columns='Soft Drink Preference', inplace=True)"
   ]
  },
  {
   "cell_type": "code",
   "execution_count": 72,
   "id": "cb60e59a-5687-4aa1-81d2-01061ed6c4a8",
   "metadata": {},
   "outputs": [
    {
     "data": {
      "text/html": [
       "<div>\n",
       "<style scoped>\n",
       "    .dataframe tbody tr th:only-of-type {\n",
       "        vertical-align: middle;\n",
       "    }\n",
       "\n",
       "    .dataframe tbody tr th {\n",
       "        vertical-align: top;\n",
       "    }\n",
       "\n",
       "    .dataframe thead th {\n",
       "        text-align: right;\n",
       "    }\n",
       "</style>\n",
       "<table border=\"1\" class=\"dataframe\">\n",
       "  <thead>\n",
       "    <tr style=\"text-align: right;\">\n",
       "      <th></th>\n",
       "      <th>Age</th>\n",
       "      <th>Soft Drink Preference Encoded</th>\n",
       "    </tr>\n",
       "  </thead>\n",
       "  <tbody>\n",
       "    <tr>\n",
       "      <th>0</th>\n",
       "      <td>25</td>\n",
       "      <td>24.0</td>\n",
       "    </tr>\n",
       "    <tr>\n",
       "      <th>1</th>\n",
       "      <td>42</td>\n",
       "      <td>36.5</td>\n",
       "    </tr>\n",
       "    <tr>\n",
       "      <th>2</th>\n",
       "      <td>37</td>\n",
       "      <td>37.0</td>\n",
       "    </tr>\n",
       "    <tr>\n",
       "      <th>3</th>\n",
       "      <td>19</td>\n",
       "      <td>24.0</td>\n",
       "    </tr>\n",
       "    <tr>\n",
       "      <th>4</th>\n",
       "      <td>31</td>\n",
       "      <td>36.5</td>\n",
       "    </tr>\n",
       "    <tr>\n",
       "      <th>5</th>\n",
       "      <td>28</td>\n",
       "      <td>24.0</td>\n",
       "    </tr>\n",
       "  </tbody>\n",
       "</table>\n",
       "</div>"
      ],
      "text/plain": [
       "   Age  Soft Drink Preference Encoded\n",
       "0   25                           24.0\n",
       "1   42                           36.5\n",
       "2   37                           37.0\n",
       "3   19                           24.0\n",
       "4   31                           36.5\n",
       "5   28                           24.0"
      ]
     },
     "execution_count": 72,
     "metadata": {},
     "output_type": "execute_result"
    }
   ],
   "source": [
    "df"
   ]
  },
  {
   "cell_type": "code",
   "execution_count": 76,
   "id": "ad50e446-0f9c-4013-be75-b010e14e0ac1",
   "metadata": {},
   "outputs": [],
   "source": [
    "# Calculating the Spearman Coefficient\n",
    "\n",
    "spear_corr_coefficient, spear_p_value = spearmanr(df['Age'], df['Soft Drink Preference Encoded'])"
   ]
  },
  {
   "cell_type": "code",
   "execution_count": 77,
   "id": "7f69326c-471d-4c3d-ac49-3f5533ff1d77",
   "metadata": {},
   "outputs": [],
   "source": [
    "if spear_corr_coefficient > 0:\n",
    "    spear_corr_interpretation = \"There is a positive rank relationship.\"\n",
    "elif spear_corr_coefficient < 0:\n",
    "    spear_corr_interpretation = \"There is a negative rank relationship.\"\n",
    "else:\n",
    "    spear_corr_interpretation = \"There is no rank relationship.\""
   ]
  },
  {
   "cell_type": "code",
   "execution_count": 78,
   "id": "0582552e-f141-4098-8e9c-38c198f90a87",
   "metadata": {},
   "outputs": [
    {
     "name": "stdout",
     "output_type": "stream",
     "text": [
      "Spearman's Rank Correlation Coefficient: 0.8332380897952965\n",
      "P-value: 0.03939551647885117\n",
      "Interpretation: There is a positive rank relationship.\n"
     ]
    }
   ],
   "source": [
    "print(f\"Spearman's Rank Correlation Coefficient: {spear_corr_coefficient}\")\n",
    "print(f\"P-value: {spear_p_value}\")\n",
    "print(f\"Interpretation: {spear_corr_interpretation}\")"
   ]
  },
  {
   "cell_type": "code",
   "execution_count": 79,
   "id": "1e215a60-f0f6-43a6-88f6-1825b438ad19",
   "metadata": {},
   "outputs": [],
   "source": [
    "# Q6.\n",
    "\n",
    "# Sample Data\n",
    "\n",
    "sales_calls_per_day = [10, 12, 8, 15, 9, 11, 14, 16, 13, 10,\n",
    "                        7, 12, 11, 9, 14, 15, 13, 10, 8, 12,\n",
    "                        9, 11, 14, 16, 13, 10, 7, 12, 11, 9]\n",
    "\n",
    "sales_per_week = [5, 6, 4, 8, 5, 6, 7, 9, 7, 6,\n",
    "                  3, 7, 6, 5, 8, 9, 7, 6, 4, 6,\n",
    "                  5, 6, 7, 9, 7, 6, 3, 7, 6, 5]"
   ]
  },
  {
   "cell_type": "code",
   "execution_count": 80,
   "id": "0c76a5b0-2fbb-4bf3-a0d9-c35ad1db3489",
   "metadata": {},
   "outputs": [],
   "source": [
    "corr_coeff, p_val = pearsonr(sales_calls_per_day, sales_per_week)"
   ]
  },
  {
   "cell_type": "code",
   "execution_count": 82,
   "id": "d3c78256-c9ee-4136-9bbc-d8f140658e83",
   "metadata": {},
   "outputs": [],
   "source": [
    "if corr_coeff > 0:\n",
    "    correlation_interpretation = \"There is a positive linear relationship.\"\n",
    "elif corr_coeff < 0:\n",
    "    correlation_interpretation = \"There is a negative linear relationship.\"\n",
    "else:\n",
    "    correlation_interpretation = \"There is no linear relationship.\""
   ]
  },
  {
   "cell_type": "code",
   "execution_count": 83,
   "id": "4617b3e2-3626-4380-9a34-5cce1efefd40",
   "metadata": {},
   "outputs": [
    {
     "name": "stdout",
     "output_type": "stream",
     "text": [
      "Pearson Correlation Coefficient: 0.9639875326125198\n",
      "P-value: 1.2122713965585403e-17\n",
      "Interpretation: There is a positive linear relationship.\n"
     ]
    }
   ],
   "source": [
    "print(f\"Pearson Correlation Coefficient: {corr_coeff}\")\n",
    "print(f\"P-value: {p_val}\")\n",
    "print(f\"Interpretation: {correlation_interpretation}\")"
   ]
  },
  {
   "cell_type": "code",
   "execution_count": 84,
   "id": "eba79d83-286a-4b48-b879-c40b7bec9bd8",
   "metadata": {},
   "outputs": [],
   "source": [
    "# End"
   ]
  },
  {
   "cell_type": "code",
   "execution_count": 85,
   "id": "4610a632-6249-40dc-8993-428a3c479e66",
   "metadata": {},
   "outputs": [],
   "source": [
    "# End"
   ]
  },
  {
   "cell_type": "code",
   "execution_count": 86,
   "id": "6205418a-53f7-4baa-b3e1-e99675fea7f0",
   "metadata": {},
   "outputs": [],
   "source": [
    "# End"
   ]
  },
  {
   "cell_type": "code",
   "execution_count": null,
   "id": "6fba7f5d-adfb-4723-a076-7abe6d733d28",
   "metadata": {},
   "outputs": [],
   "source": []
  }
 ],
 "metadata": {
  "kernelspec": {
   "display_name": "Python 3 (ipykernel)",
   "language": "python",
   "name": "python3"
  },
  "language_info": {
   "codemirror_mode": {
    "name": "ipython",
    "version": 3
   },
   "file_extension": ".py",
   "mimetype": "text/x-python",
   "name": "python",
   "nbconvert_exporter": "python",
   "pygments_lexer": "ipython3",
   "version": "3.10.8"
  }
 },
 "nbformat": 4,
 "nbformat_minor": 5
}
